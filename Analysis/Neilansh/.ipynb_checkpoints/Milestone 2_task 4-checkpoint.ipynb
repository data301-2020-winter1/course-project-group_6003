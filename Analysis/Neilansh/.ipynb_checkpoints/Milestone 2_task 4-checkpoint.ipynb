{
 "cells": [
  {
   "cell_type": "code",
   "execution_count": 1,
   "metadata": {},
   "outputs": [
    {
     "ename": "ModuleNotFoundError",
     "evalue": "No module named 'script.project_functions'",
     "output_type": "error",
     "traceback": [
      "\u001b[1;31m---------------------------------------------------------------------------\u001b[0m",
      "\u001b[1;31mModuleNotFoundError\u001b[0m                       Traceback (most recent call last)",
      "\u001b[1;32m<ipython-input-1-8d04a68e3c06>\u001b[0m in \u001b[0;36m<module>\u001b[1;34m()\u001b[0m\n\u001b[0;32m      1\u001b[0m \u001b[1;32mimport\u001b[0m \u001b[0msys\u001b[0m\u001b[1;33m,\u001b[0m \u001b[0mos\u001b[0m\u001b[1;33m\u001b[0m\u001b[1;33m\u001b[0m\u001b[0m\n\u001b[0;32m      2\u001b[0m \u001b[0msys\u001b[0m\u001b[1;33m.\u001b[0m\u001b[0mpath\u001b[0m\u001b[1;33m.\u001b[0m\u001b[0minsert\u001b[0m\u001b[1;33m(\u001b[0m\u001b[1;36m0\u001b[0m\u001b[1;33m,\u001b[0m \u001b[0mos\u001b[0m\u001b[1;33m.\u001b[0m\u001b[0mpath\u001b[0m\u001b[1;33m.\u001b[0m\u001b[0mabspath\u001b[0m\u001b[1;33m(\u001b[0m\u001b[1;34m'..'\u001b[0m\u001b[1;33m)\u001b[0m\u001b[1;33m)\u001b[0m\u001b[1;33m\u001b[0m\u001b[1;33m\u001b[0m\u001b[0m\n\u001b[1;32m----> 3\u001b[1;33m \u001b[1;32mfrom\u001b[0m \u001b[0mscript\u001b[0m\u001b[1;33m.\u001b[0m\u001b[0mproject_functions\u001b[0m \u001b[1;32mimport\u001b[0m \u001b[1;33m*\u001b[0m\u001b[1;33m\u001b[0m\u001b[1;33m\u001b[0m\u001b[0m\n\u001b[0m",
      "\u001b[1;31mModuleNotFoundError\u001b[0m: No module named 'script.project_functions'"
     ]
    }
   ],
   "source": [
    "import sys, os\n",
    "sys.path.insert(0, os.path.abspath('..'))\n",
    "from script.project_functions import * "
   ]
  },
  {
   "cell_type": "markdown",
   "metadata": {},
   "source": [
    "### Research Question(s): ###\n",
    "**-Comparing the sales of different genres in different regions, primarily, North America, Europe, and Japan.  \n",
    "-Looking at the total sales of different genres in these regions, and finding out the most popular genres.  \n",
    "-The analysis also tries to connect genre popularity in these regions with factors such as cultural influence, etc.**\n",
    "\n",
    "***The EDA explores different features about the dataset, and finds some interesting features related to the research question.***"
   ]
  },
  {
   "cell_type": "code",
   "execution_count": 2,
   "metadata": {},
   "outputs": [],
   "source": [
    "import pandas as pd\n",
    "import numpy as np\n",
    "import seaborn as sns\n",
    "import matplotlib.pylab as plt"
   ]
  },
  {
   "cell_type": "markdown",
   "metadata": {},
   "source": [
    "## The piece of code below processes the dataset: ##\n",
    "***The dataset produced as a result is clean, and is saved in the processed directory.***"
   ]
  },
  {
   "cell_type": "code",
   "execution_count": 4,
   "metadata": {},
   "outputs": [
    {
     "data": {
      "text/html": [
       "<div>\n",
       "<style scoped>\n",
       "    .dataframe tbody tr th:only-of-type {\n",
       "        vertical-align: middle;\n",
       "    }\n",
       "\n",
       "    .dataframe tbody tr th {\n",
       "        vertical-align: top;\n",
       "    }\n",
       "\n",
       "    .dataframe thead th {\n",
       "        text-align: right;\n",
       "    }\n",
       "</style>\n",
       "<table border=\"1\" class=\"dataframe\">\n",
       "  <thead>\n",
       "    <tr style=\"text-align: right;\">\n",
       "      <th></th>\n",
       "      <th>Title</th>\n",
       "      <th>Platform</th>\n",
       "      <th>Year Released</th>\n",
       "      <th>Genre</th>\n",
       "      <th>Publisher</th>\n",
       "      <th>NA_Sales</th>\n",
       "      <th>EU_Sales</th>\n",
       "      <th>JP_Sales</th>\n",
       "      <th>Other_Sales</th>\n",
       "      <th>Global_Sales</th>\n",
       "      <th>Critic_Score</th>\n",
       "      <th>Critic_Count</th>\n",
       "      <th>User_Score</th>\n",
       "      <th>User_Count</th>\n",
       "      <th>Developer</th>\n",
       "      <th>Rating</th>\n",
       "    </tr>\n",
       "  </thead>\n",
       "  <tbody>\n",
       "    <tr>\n",
       "      <th>0</th>\n",
       "      <td>Wii Sports</td>\n",
       "      <td>Wii</td>\n",
       "      <td>2006.0</td>\n",
       "      <td>Sports</td>\n",
       "      <td>Nintendo</td>\n",
       "      <td>41.36</td>\n",
       "      <td>28.96</td>\n",
       "      <td>3.77</td>\n",
       "      <td>8.45</td>\n",
       "      <td>82.53</td>\n",
       "      <td>76.0</td>\n",
       "      <td>51.0</td>\n",
       "      <td>8.0</td>\n",
       "      <td>322.0</td>\n",
       "      <td>Nintendo</td>\n",
       "      <td>E</td>\n",
       "    </tr>\n",
       "    <tr>\n",
       "      <th>2</th>\n",
       "      <td>Mario Kart Wii</td>\n",
       "      <td>Wii</td>\n",
       "      <td>2008.0</td>\n",
       "      <td>Racing</td>\n",
       "      <td>Nintendo</td>\n",
       "      <td>15.68</td>\n",
       "      <td>12.76</td>\n",
       "      <td>3.79</td>\n",
       "      <td>3.29</td>\n",
       "      <td>35.52</td>\n",
       "      <td>82.0</td>\n",
       "      <td>73.0</td>\n",
       "      <td>8.3</td>\n",
       "      <td>709.0</td>\n",
       "      <td>Nintendo</td>\n",
       "      <td>E</td>\n",
       "    </tr>\n",
       "    <tr>\n",
       "      <th>3</th>\n",
       "      <td>Wii Sports Resort</td>\n",
       "      <td>Wii</td>\n",
       "      <td>2009.0</td>\n",
       "      <td>Sports</td>\n",
       "      <td>Nintendo</td>\n",
       "      <td>15.61</td>\n",
       "      <td>10.93</td>\n",
       "      <td>3.28</td>\n",
       "      <td>2.95</td>\n",
       "      <td>32.77</td>\n",
       "      <td>80.0</td>\n",
       "      <td>73.0</td>\n",
       "      <td>8.0</td>\n",
       "      <td>192.0</td>\n",
       "      <td>Nintendo</td>\n",
       "      <td>E</td>\n",
       "    </tr>\n",
       "  </tbody>\n",
       "</table>\n",
       "</div>"
      ],
      "text/plain": [
       "               Title Platform  Year Released   Genre Publisher  NA_Sales  \\\n",
       "0         Wii Sports      Wii         2006.0  Sports  Nintendo     41.36   \n",
       "2     Mario Kart Wii      Wii         2008.0  Racing  Nintendo     15.68   \n",
       "3  Wii Sports Resort      Wii         2009.0  Sports  Nintendo     15.61   \n",
       "\n",
       "   EU_Sales  JP_Sales  Other_Sales  Global_Sales  Critic_Score  Critic_Count  \\\n",
       "0     28.96      3.77         8.45         82.53          76.0          51.0   \n",
       "2     12.76      3.79         3.29         35.52          82.0          73.0   \n",
       "3     10.93      3.28         2.95         32.77          80.0          73.0   \n",
       "\n",
       "   User_Score  User_Count Developer Rating  \n",
       "0         8.0       322.0  Nintendo      E  \n",
       "2         8.3       709.0  Nintendo      E  \n",
       "3         8.0       192.0  Nintendo      E  "
      ]
     },
     "execution_count": 4,
     "metadata": {},
     "output_type": "execute_result"
    }
   ],
   "source": [
    "# cleaning the dataset: getting rid of nulls and repeated values\n",
    "# couldn't use the project_functions module due to import error\n",
    "# using the piece of code from load_and_clean method in project_functions under the Scripts folder.\n",
    "# Please also check project_functions.ipynb\n",
    "dataset_address = 'C:\\\\Users\\\\admin\\\\Desktop\\\\Uni files\\\\Term I\\\\DATA 301\\\\Project\\\\course-project-group_6003\\\\data\\\\raw\\\\Gamesales.csv'\n",
    "data_frame = pd.read_csv(dataset_address)              # original dataset\n",
    "data_frame.head(7)\n",
    "# DISPLAYING METHOD CHAINING TO GET A DATASET FREE OF NULLS AND DUPLICATES\n",
    "df = ( pd.read_csv(dataset_address) \n",
    "         .dropna(how = \"any\")                      # remove null values\n",
    "         .rename(columns = {\"Name\" : \"Title\", 'Year_of_Release' : 'Year Released'})     # rename the first column to Title\n",
    "         .drop_duplicates()                        # drop duplicates if any\n",
    "        \n",
    "     )\n",
    "df.to_csv('C:\\\\Users\\\\admin\\\\Desktop\\\\Uni files\\\\Term I\\\\DATA 301\\\\Project\\\\course-project-group_6003\\\\data\\\\processed\\\\Gamesales_clean.csv')\n",
    "df.head(3)        # df is free of nulls and duplicates"
   ]
  },
  {
   "cell_type": "markdown",
   "metadata": {},
   "source": [
    "## Short summary: ##\n",
    "***The code below lists a short numerical summary of the dataset.***"
   ]
  },
  {
   "cell_type": "code",
   "execution_count": 3,
   "metadata": {},
   "outputs": [
    {
     "name": "stdout",
     "output_type": "stream",
     "text": [
      "Columns: Index(['Title', 'Platform', 'Year Released', 'Genre', 'Publisher', 'NA_Sales',\n",
      "       'EU_Sales', 'JP_Sales', 'Other_Sales', 'Global_Sales', 'Critic_Score',\n",
      "       'Critic_Count', 'User_Score', 'User_Count', 'Developer', 'Rating'],\n",
      "      dtype='object')\n",
      "Number of rows and columns: (6825, 16)\n"
     ]
    },
    {
     "data": {
      "text/html": [
       "<div>\n",
       "<style scoped>\n",
       "    .dataframe tbody tr th:only-of-type {\n",
       "        vertical-align: middle;\n",
       "    }\n",
       "\n",
       "    .dataframe tbody tr th {\n",
       "        vertical-align: top;\n",
       "    }\n",
       "\n",
       "    .dataframe thead th {\n",
       "        text-align: right;\n",
       "    }\n",
       "</style>\n",
       "<table border=\"1\" class=\"dataframe\">\n",
       "  <thead>\n",
       "    <tr style=\"text-align: right;\">\n",
       "      <th></th>\n",
       "      <th>Year Released</th>\n",
       "      <th>NA_Sales</th>\n",
       "      <th>EU_Sales</th>\n",
       "      <th>JP_Sales</th>\n",
       "      <th>Other_Sales</th>\n",
       "      <th>Global_Sales</th>\n",
       "      <th>Critic_Score</th>\n",
       "      <th>Critic_Count</th>\n",
       "      <th>User_Score</th>\n",
       "      <th>User_Count</th>\n",
       "    </tr>\n",
       "  </thead>\n",
       "  <tbody>\n",
       "    <tr>\n",
       "      <th>count</th>\n",
       "      <td>6825.000000</td>\n",
       "      <td>6825.000000</td>\n",
       "      <td>6825.000000</td>\n",
       "      <td>6825.000000</td>\n",
       "      <td>6825.000000</td>\n",
       "      <td>6825.000000</td>\n",
       "      <td>6825.000000</td>\n",
       "      <td>6825.000000</td>\n",
       "      <td>6825.000000</td>\n",
       "      <td>6825.000000</td>\n",
       "    </tr>\n",
       "    <tr>\n",
       "      <th>mean</th>\n",
       "      <td>2007.436777</td>\n",
       "      <td>0.394484</td>\n",
       "      <td>0.236089</td>\n",
       "      <td>0.064158</td>\n",
       "      <td>0.082677</td>\n",
       "      <td>0.777590</td>\n",
       "      <td>70.272088</td>\n",
       "      <td>28.931136</td>\n",
       "      <td>7.185626</td>\n",
       "      <td>174.722344</td>\n",
       "    </tr>\n",
       "    <tr>\n",
       "      <th>std</th>\n",
       "      <td>4.211248</td>\n",
       "      <td>0.967385</td>\n",
       "      <td>0.687330</td>\n",
       "      <td>0.287570</td>\n",
       "      <td>0.269871</td>\n",
       "      <td>1.963443</td>\n",
       "      <td>13.868572</td>\n",
       "      <td>19.224165</td>\n",
       "      <td>1.439942</td>\n",
       "      <td>587.428538</td>\n",
       "    </tr>\n",
       "    <tr>\n",
       "      <th>min</th>\n",
       "      <td>1985.000000</td>\n",
       "      <td>0.000000</td>\n",
       "      <td>0.000000</td>\n",
       "      <td>0.000000</td>\n",
       "      <td>0.000000</td>\n",
       "      <td>0.010000</td>\n",
       "      <td>13.000000</td>\n",
       "      <td>3.000000</td>\n",
       "      <td>0.500000</td>\n",
       "      <td>4.000000</td>\n",
       "    </tr>\n",
       "    <tr>\n",
       "      <th>25%</th>\n",
       "      <td>2004.000000</td>\n",
       "      <td>0.060000</td>\n",
       "      <td>0.020000</td>\n",
       "      <td>0.000000</td>\n",
       "      <td>0.010000</td>\n",
       "      <td>0.110000</td>\n",
       "      <td>62.000000</td>\n",
       "      <td>14.000000</td>\n",
       "      <td>6.500000</td>\n",
       "      <td>11.000000</td>\n",
       "    </tr>\n",
       "    <tr>\n",
       "      <th>50%</th>\n",
       "      <td>2007.000000</td>\n",
       "      <td>0.150000</td>\n",
       "      <td>0.060000</td>\n",
       "      <td>0.000000</td>\n",
       "      <td>0.020000</td>\n",
       "      <td>0.290000</td>\n",
       "      <td>72.000000</td>\n",
       "      <td>25.000000</td>\n",
       "      <td>7.500000</td>\n",
       "      <td>27.000000</td>\n",
       "    </tr>\n",
       "    <tr>\n",
       "      <th>75%</th>\n",
       "      <td>2011.000000</td>\n",
       "      <td>0.390000</td>\n",
       "      <td>0.210000</td>\n",
       "      <td>0.010000</td>\n",
       "      <td>0.070000</td>\n",
       "      <td>0.750000</td>\n",
       "      <td>80.000000</td>\n",
       "      <td>39.000000</td>\n",
       "      <td>8.200000</td>\n",
       "      <td>89.000000</td>\n",
       "    </tr>\n",
       "    <tr>\n",
       "      <th>max</th>\n",
       "      <td>2016.000000</td>\n",
       "      <td>41.360000</td>\n",
       "      <td>28.960000</td>\n",
       "      <td>6.500000</td>\n",
       "      <td>10.570000</td>\n",
       "      <td>82.530000</td>\n",
       "      <td>98.000000</td>\n",
       "      <td>113.000000</td>\n",
       "      <td>9.600000</td>\n",
       "      <td>10665.000000</td>\n",
       "    </tr>\n",
       "  </tbody>\n",
       "</table>\n",
       "</div>"
      ],
      "text/plain": [
       "       Year Released     NA_Sales     EU_Sales     JP_Sales  Other_Sales  \\\n",
       "count    6825.000000  6825.000000  6825.000000  6825.000000  6825.000000   \n",
       "mean     2007.436777     0.394484     0.236089     0.064158     0.082677   \n",
       "std         4.211248     0.967385     0.687330     0.287570     0.269871   \n",
       "min      1985.000000     0.000000     0.000000     0.000000     0.000000   \n",
       "25%      2004.000000     0.060000     0.020000     0.000000     0.010000   \n",
       "50%      2007.000000     0.150000     0.060000     0.000000     0.020000   \n",
       "75%      2011.000000     0.390000     0.210000     0.010000     0.070000   \n",
       "max      2016.000000    41.360000    28.960000     6.500000    10.570000   \n",
       "\n",
       "       Global_Sales  Critic_Score  Critic_Count   User_Score    User_Count  \n",
       "count   6825.000000   6825.000000   6825.000000  6825.000000   6825.000000  \n",
       "mean       0.777590     70.272088     28.931136     7.185626    174.722344  \n",
       "std        1.963443     13.868572     19.224165     1.439942    587.428538  \n",
       "min        0.010000     13.000000      3.000000     0.500000      4.000000  \n",
       "25%        0.110000     62.000000     14.000000     6.500000     11.000000  \n",
       "50%        0.290000     72.000000     25.000000     7.500000     27.000000  \n",
       "75%        0.750000     80.000000     39.000000     8.200000     89.000000  \n",
       "max       82.530000     98.000000    113.000000     9.600000  10665.000000  "
      ]
     },
     "execution_count": 3,
     "metadata": {},
     "output_type": "execute_result"
    }
   ],
   "source": [
    "# Basic analysis:\n",
    "print(f'Columns: {df.columns}')                    # printing different columns\n",
    "print(f'Number of rows and columns: {df.shape}')     \n",
    "df.describe()                                      # Short summary of the dataset\n"
   ]
  },
  {
   "cell_type": "markdown",
   "metadata": {},
   "source": [
    "## The following code tells us the release years of different games in the dataset: ### "
   ]
  },
  {
   "cell_type": "code",
   "execution_count": 5,
   "metadata": {},
   "outputs": [
    {
     "name": "stdout",
     "output_type": "stream",
     "text": [
      "Range of years: [2006. 2008. 2009. 2005. 2007. 2010. 2013. 2004. 2002. 2001. 2011. 2012.\n",
      " 2014. 1997. 1999. 2015. 2016. 2003. 1998. 1996. 2000. 1994. 1985. 1992.\n",
      " 1988.]\n"
     ]
    }
   ],
   "source": [
    "# Year_of_Release column\n",
    "print(f'Range of years: {df[\"Year Released\"].unique()}')\n",
    "# The dataset consists of games released from the year 1985 to those released in 2016.\n",
    "\n",
    "\n"
   ]
  },
  {
   "cell_type": "markdown",
   "metadata": {},
   "source": [
    "## Looking at Japan: ##\n",
    "***-The following block of code looks at games released in 2016 in Japan.  \n",
    "   -Among the games released in 2016, Role-playing games were found to be the most popular.  \n",
    "   -It could be inferred from the plot that the most popular genre in Japan during the period 2016-17 was Role-playing, followed by Action.***"
   ]
  },
  {
   "cell_type": "code",
   "execution_count": 10,
   "metadata": {},
   "outputs": [
    {
     "data": {
      "text/plain": [
       "(array([0, 1, 2, 3]),\n",
       " [Text(0, 0, 'Action'),\n",
       "  Text(1, 0, 'Role-Playing'),\n",
       "  Text(2, 0, 'Misc'),\n",
       "  Text(3, 0, 'Fighting')])"
      ]
     },
     "execution_count": 10,
     "metadata": {},
     "output_type": "execute_result"
    },
    {
     "data": {
      "image/png": "[encoded data removed]",
      "text/plain": [
       "<Figure size 432x288 with 1 Axes>"
      ]
     },
     "metadata": {
      "needs_background": "light"
     },
     "output_type": "display_data"
    }
   ],
   "source": [
    "# FOCUSING ON GAMES RELEASED IN 2016, JAPAN\n",
    "df1 = df[(df[\"Year Released\"] == 2016) & (df['JP_Sales'] > df['NA_Sales']) & (df['JP_Sales'] > df['EU_Sales']) ]    \n",
    "df1['Genre'].unique()        # DIFFERENT GENRES OF PS4 GAMES RELEASED IN 2016 \n",
    "\n",
    "japan_sales = df1[['Title', 'Genre', 'JP_Sales', 'NA_Sales', 'EU_Sales']]\n",
    "japan_sales\n",
    "\n",
    "# PLOTTING THE GRAPH OF FREQUENCY OF EACH GENRE IN JAPAN GAMES RELEASED IN 2016\n",
    "sns.countplot(x = 'Genre', data = japan_sales)  \n",
    "plt.title('Different Genres of 2016 Games - Japan')\n",
    "plt.xticks(rotation = 90)   \n",
    "# IT COULD BE INFERRED THAT THE MOST POPULAR GENRE IN JAPAN DURING THE PERIOD 2016-17 WAS ROLE-PLAYING, FOLLOWED BY ACTION."
   ]
  },
  {
   "cell_type": "markdown",
   "metadata": {},
   "source": [
    "## Comparing Sports and Action game sales in North America and Europe: ##\n",
    "***-The following blocks of code compare Action and Sports game sales in North America and Europe.    \n",
    "-The dataset used for the first plot only takes into account those Sports and Action games which had more sales in North America than in Europe.  \n",
    "-The dataset used for the second plot only takes into account those Sports and Action games which had more sales in Europe than in North America.  \n",
    "-The two plots make us infer that Sports and Action games had more sales in North America than in Europe.***\n"
   ]
  },
  {
   "cell_type": "code",
   "execution_count": 8,
   "metadata": {},
   "outputs": [
    {
     "data": {
      "text/plain": [
       "<AxesSubplot:title={'center':'Action and Sport games in North America'}, xlabel='Genre', ylabel='count'>"
      ]
     },
     "execution_count": 8,
     "metadata": {},
     "output_type": "execute_result"
    },
    {
     "data": {
      "image/png": "[encoded data removed]",
      "text/plain": [
       "<Figure size 432x288 with 1 Axes>"
      ]
     },
     "metadata": {
      "needs_background": "light"
     },
     "output_type": "display_data"
    }
   ],
   "source": [
    "# COMPARING SPORTS AND ACTION GAME SALES IN NORTH AMERICA AND EUROPE\n",
    "df2 = df[(((df['Genre'] == 'Sports') | (df['Genre'] == 'Action')) & (df['NA_Sales'] > df['EU_Sales']))]\n",
    "df3 = df[(((df['Genre'] == 'Sports') | (df['Genre'] == 'Action')) & (df['EU_Sales'] > df['NA_Sales']))]\n",
    "games_NA = df2[['Title', 'Year Released', 'Genre', 'NA_Sales', 'EU_Sales']]\n",
    "games_EU = df3[['Title', 'Year Released', 'Genre', 'NA_Sales', 'EU_Sales']]\n",
    "p1 = sns.countplot(x = 'Genre', data = games_NA)\n",
    "plt.title(\"Action and Sport games in North America\")\n",
    "p1\n",
    "# PLEASE LOOK AT THE NEXT PLOT"
   ]
  },
  {
   "cell_type": "code",
   "execution_count": 9,
   "metadata": {},
   "outputs": [
    {
     "data": {
      "text/plain": [
       "<AxesSubplot:title={'center':'Action and Sport games in Europe'}, xlabel='Genre', ylabel='count'>"
      ]
     },
     "execution_count": 9,
     "metadata": {},
     "output_type": "execute_result"
    },
    {
     "data": {
      "image/png": "[encoded data removed]",
      "text/plain": [
       "<Figure size 432x288 with 1 Axes>"
      ]
     },
     "metadata": {
      "needs_background": "light"
     },
     "output_type": "display_data"
    }
   ],
   "source": [
    "# CONTINUED\n",
    "p2 = sns.countplot(x = 'Genre', data = games_EU)\n",
    "plt.title(\"Action and Sport games in Europe\")\n",
    "p2\n",
    "# THIS MAKES US INFER THAT SPORTS AND ACTION GAMES HAD MORE SALES IN NORTH AMERICA THAN IN EUROPE.\n",
    "# ON AN AVERAGE, ACTION AND SPORTS GAME SALES IN NORTH AMERICA WERE MORE THAN THAT OF EUROPE."
   ]
  },
  {
   "cell_type": "markdown",
   "metadata": {},
   "source": [
    "## Exploring different genres in North America: ##\n",
    "***-The dataset used for the second plot only takes into account those Sports and Action games which had more sales in North America than in Europe and Japan.  \n",
    "-The plot below suggests that Action games had more sales in North America as compared to those of Europe and Japan.  \n",
    "-It could also be inferred that Action games were the most popular in North America.***"
   ]
  },
  {
   "cell_type": "code",
   "execution_count": 9,
   "metadata": {},
   "outputs": [
    {
     "data": {
      "text/plain": [
       "<AxesSubplot:title={'center':'Different Genres of Games - North America'}, xlabel='Genre', ylabel='count'>"
      ]
     },
     "execution_count": 9,
     "metadata": {},
     "output_type": "execute_result"
    },
    {
     "data": {
      "image/png": "[encoded data removed]",
      "text/plain": [
       "<Figure size 432x288 with 1 Axes>"
      ]
     },
     "metadata": {
      "needs_background": "light"
     },
     "output_type": "display_data"
    }
   ],
   "source": [
    "# GENRES POPULAR IN NORTH AMERICA\n",
    "df4 = df[((df['NA_Sales'] > df['EU_Sales']) & ((df['NA_Sales'] > df['JP_Sales']) ))]\n",
    "df4.head(5)\n",
    "na_genres =  df4[['Title', 'Year Released', 'Genre', 'NA_Sales']]\n",
    "p3 = sns.countplot(x = 'Genre', data = df4)\n",
    "plt.title('Different Genres of Games - North America')\n",
    "plt.xticks(rotation = 90)\n",
    "p3    \n",
    "# ACTION GAMES SEEM TO HAVE GREATER SALES IN NORTH AMERICA, AS COMPARED TO THOSE OF EUROPE AND JAPAN."
   ]
  },
  {
   "cell_type": "markdown",
   "metadata": {},
   "source": [
    "## The following piece of code generates the total sales of the three most popular game genres in North America during the period 2016-17: ##\n",
    "***-A violin plot is also generated for the same.  \n",
    "-In the violin plot below, even though Sports games had the most varrying sales for different games, Action games had the most sales, and therefore must be most popular, as the total sales analysis suggests.***"
   ]
  },
  {
   "cell_type": "code",
   "execution_count": 15,
   "metadata": {},
   "outputs": [
    {
     "name": "stdout",
     "output_type": "stream",
     "text": [
      "Total sales of Sports games in North America: 457.5    count: 943\n",
      "Total sales of Action games in North America: 591.2    count: 1630\n",
      "Total sales of Shooter games in North America: 448.8  count: 864\n"
     ]
    }
   ],
   "source": [
    "# COMPARING SALES OF DIFFERENT GENRES IN NORTH AMERICA\n",
    "na_genres = df[['Title', 'Year Released', 'Genre', 'NA_Sales']]\n",
    "# ANALYZING SALES FOR THE 3 MOST POPULAR GENRES\n",
    "na_sports = na_genres[na_genres['Genre'] == 'Sports']\n",
    "print(f'Total sales of Sports games in North America: {round(na_sports[\"NA_Sales\"].sum(), 1)}    count: {(na_sports[\"NA_Sales\"] > 0).count()}')\n",
    "\n",
    "na_action = na_genres[na_genres['Genre'] == 'Action']\n",
    "print(f'Total sales of Action games in North America: {round(na_action[\"NA_Sales\"].sum(), 1)}    count: {(na_action[\"NA_Sales\"]>0).count()}')\n",
    "\n",
    "na_shooter = na_genres[na_genres['Genre'] == 'Shooter']\n",
    "print(f'Total sales of Shooter games in North America: {round(na_shooter[\"NA_Sales\"].sum(), 1)}  count: {(na_shooter[\"NA_Sales\"] > 0).count()}')"
   ]
  },
  {
   "cell_type": "code",
   "execution_count": 16,
   "metadata": {},
   "outputs": [
    {
     "data": {
      "text/plain": [
       "Text(0.5, 1.0, 'Sales of different genres in North America')"
      ]
     },
     "execution_count": 16,
     "metadata": {},
     "output_type": "execute_result"
    },
    {
     "data": {
      "image/png": "[encoded data removed]",
      "text/plain": [
       "<Figure size 432x288 with 1 Axes>"
      ]
     },
     "metadata": {
      "needs_background": "light"
     },
     "output_type": "display_data"
    }
   ],
   "source": [
    "# COMPARING SALES OF DIFFERENT GENRES IN NORTH AMERICA\n",
    "sns.violinplot(x = 'Genre', y = 'NA_Sales', data = df)\n",
    "plt.xticks(rotation = 90)\n",
    "plt.title(\"Sales of different genres in North America\")\n",
    "# IT COULD BE INFERRED THAT SPORTS WERE A BIT MORE EXPENSIVE THAN THE REST. A PARTICULAR SPORTS GAME MADE THE MOST SALES."
   ]
  },
  {
   "cell_type": "markdown",
   "metadata": {},
   "source": [
    "## Comparing the sales of different genres in Europe: ##\n",
    "***The violin plot suggests that the sport games were more variable than the rest gof the genres.***"
   ]
  },
  {
   "cell_type": "code",
   "execution_count": 17,
   "metadata": {},
   "outputs": [
    {
     "data": {
      "text/plain": [
       "Text(0.5, 1.0, 'Sales of different genres in Europe')"
      ]
     },
     "execution_count": 17,
     "metadata": {},
     "output_type": "execute_result"
    },
    {
     "data": {
      "image/png": "[encoded data removed]",
      "text/plain": [
       "<Figure size 432x288 with 1 Axes>"
      ]
     },
     "metadata": {
      "needs_background": "light"
     },
     "output_type": "display_data"
    }
   ],
   "source": [
    "# COMPARING SALES OF DIFFERENT GENRES IN EUROPE\n",
    "sns.violinplot(x = 'Genre', y = 'EU_Sales', data = df)\n",
    "plt.title(\"Sales of different genres in Europe\")\n",
    "plt.xticks(rotation = 90)\n",
    "# IT COULD BE SAID THAT SPORTS GAMES WERE MORE EXPENSIVE THAN THE REST. "
   ]
  },
  {
   "cell_type": "markdown",
   "metadata": {},
   "source": [
    "## Looking at game sales in other regions: ##\n",
    "***-This compares the sales of different game genres in regions other than North America, Europe, and Japan.  \n",
    "-Action game sales were more variable, followed by Sports and Racing.***"
   ]
  },
  {
   "cell_type": "code",
   "execution_count": 19,
   "metadata": {},
   "outputs": [
    {
     "data": {
      "text/plain": [
       "Text(0.5, 1.0, 'Sales of different genres in Elsewhere')"
      ]
     },
     "execution_count": 19,
     "metadata": {},
     "output_type": "execute_result"
    },
    {
     "data": {
      "image/png": "[encoded data removed]",
      "text/plain": [
       "<Figure size 432x288 with 1 Axes>"
      ]
     },
     "metadata": {
      "needs_background": "light"
     },
     "output_type": "display_data"
    }
   ],
   "source": [
    "# COMPARING SALES OF DIFFERENT GENRES IN REGIONS OTHER THAN NORTH AMERICA, EUROPE AND JAPAN\n",
    "sns.violinplot(x = 'Genre', y = 'Other_Sales', data = df)\n",
    "plt.title(\"Sales of different genres in Elsewhere\")\n",
    "plt.xticks(rotation = 90)\n",
    "\n"
   ]
  },
  {
   "cell_type": "markdown",
   "metadata": {},
   "source": [
    "## Comparing Sales of Action games in North America and Elsewhere (excluding Europe and Japan): ##\n",
    "***-Total sales of Action games in North America were more than thrice that of other regions (excluding Europe and Japan).  \n",
    "-A plot is generated again for reference.***"
   ]
  },
  {
   "cell_type": "code",
   "execution_count": 24,
   "metadata": {},
   "outputs": [
    {
     "name": "stdout",
     "output_type": "stream",
     "text": [
      "Total sales of Action games in Elsewhere: 147.5\n",
      "Total sales of Action games in North America: 498.1\n"
     ]
    }
   ],
   "source": [
    "# COMPARING SALES OF ACTION GAMES IN NORTH AMERICA AND REGIONS EXCLUDING JAPAN AND EUROPE\n",
    "sales_elsewhere = df[['Title', 'Genre', 'Year Released', 'Platform', 'Other_Sales']]\n",
    "elsewhere_action = sales_elsewhere[sales_elsewhere['Genre'] == 'Action']\n",
    "print(f'Total sales of Action games in Elsewhere: {round(elsewhere_action[\"Other_Sales\"].sum(), 1)}')\n",
    "na_action = na_genres[na_genres['Genre'] == 'Action']\n",
    "print(f'Total sales of Action games in North America: {round(na_action[\"NA_Sales\"].sum(), 1)}')\n",
    "# TOTAL SALES OF ACTION GAMES IN NORTH AMERICA WERE MORE THAN 3 TIMES THAT OF OTHER REGIONS (EXCLUDING EUROPE AND JAPAN)!"
   ]
  },
  {
   "cell_type": "code",
   "execution_count": 11,
   "metadata": {},
   "outputs": [
    {
     "data": {
      "text/plain": [
       "<AxesSubplot:title={'center':'Different Genres of Games - North America'}, xlabel='Genre', ylabel='count'>"
      ]
     },
     "execution_count": 11,
     "metadata": {},
     "output_type": "execute_result"
    },
    {
     "data": {
      "image/png": "[encoded data removed]",
      "text/plain": [
       "<Figure size 432x288 with 1 Axes>"
      ]
     },
     "metadata": {
      "needs_background": "light"
     },
     "output_type": "display_data"
    }
   ],
   "source": [
    "# POPULAR GENRE IN NORTH AMERICA\n",
    "df5 = df[df['NA_Sales'] > 0]\n",
    "df5 = df5[['Title', 'Year Released', 'Genre', 'NA_Sales']]\n",
    "p4 = sns.countplot(x = 'Genre', data = df5)\n",
    "plt.title('Different Genres of Games - North America')\n",
    "plt.xticks(rotation = 90)\n",
    "p4    \n",
    "# ACTION GENRE SEEMS TO BE THE MOST POPULAR -- ALSO JUSTIFIED BY SALES"
   ]
  },
  {
   "cell_type": "markdown",
   "metadata": {},
   "source": [
    "***-Overall, Action games were found to be popular in North America, and generated more sales in total than in other regions including Europe and Japan.  \n",
    "-The following code compares the sales of Action games globally with that of North America, and notices an interesting observation.  \n",
    "-The total sales of Action games in North America constituted about 50% of the total sales globally.***"
   ]
  },
  {
   "cell_type": "code",
   "execution_count": 25,
   "metadata": {},
   "outputs": [
    {
     "name": "stdout",
     "output_type": "stream",
     "text": [
      "Total action game sales in NA: 591.23\n",
      "Total action game sales globally: 1203.16\n"
     ]
    }
   ],
   "source": [
    "# COMPARING ACTION GAME SALES WITH GLOBAL SALES\n",
    "games = df[['Title', 'Year Released', 'Genre', 'NA_Sales', 'Global_Sales']]\n",
    "action_games = games[games['Genre'] == 'Action']\n",
    "print(f'Total action game sales in NA: {action_games[\"NA_Sales\"].sum()}')\n",
    "print(f'Total action game sales globally: {action_games[\"Global_Sales\"].sum()}')\n"
   ]
  },
  {
   "cell_type": "code",
   "execution_count": 33,
   "metadata": {},
   "outputs": [
    {
     "data": {
      "text/plain": [
       "pandas.core.series.Series"
      ]
     },
     "execution_count": 33,
     "metadata": {},
     "output_type": "execute_result"
    }
   ],
   "source": [
    "\n"
   ]
  },
  {
   "cell_type": "code",
   "execution_count": null,
   "metadata": {},
   "outputs": [],
   "source": []
  }
 ],
 "metadata": {
  "kernelspec": {
   "display_name": "Python 3",
   "language": "python",
   "name": "python3"
  },
  "language_info": {
   "codemirror_mode": {
    "name": "ipython",
    "version": 3
   },
   "file_extension": ".py",
   "mimetype": "text/x-python",
   "name": "python",
   "nbconvert_exporter": "python",
   "pygments_lexer": "ipython3",
   "version": "3.7.8"
  }
 },
 "nbformat": 4,
 "nbformat_minor": 4
}
