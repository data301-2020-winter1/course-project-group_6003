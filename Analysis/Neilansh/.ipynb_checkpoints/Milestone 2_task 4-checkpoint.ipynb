{
 "cells": [
  {
   "cell_type": "code",
   "execution_count": 20,
   "metadata": {},
   "outputs": [
    {
     "ename": "ImportError",
     "evalue": "attempted relative import with no known parent package",
     "output_type": "error",
     "traceback": [
      "\u001b[1;31m---------------------------------------------------------------------------\u001b[0m",
      "\u001b[1;31mImportError\u001b[0m                               Traceback (most recent call last)",
      "\u001b[1;32m<ipython-input-20-b45495b92a9a>\u001b[0m in \u001b[0;36m<module>\u001b[1;34m\u001b[0m\n\u001b[0;32m      2\u001b[0m \u001b[1;31m#sys.path.insert(0, os.path.abspath('..'))\u001b[0m\u001b[1;33m\u001b[0m\u001b[1;33m\u001b[0m\u001b[1;33m\u001b[0m\u001b[0m\n\u001b[0;32m      3\u001b[0m \u001b[1;31m#from Scripts.project_functions import load_and_clean\u001b[0m\u001b[1;33m\u001b[0m\u001b[1;33m\u001b[0m\u001b[1;33m\u001b[0m\u001b[0m\n\u001b[1;32m----> 4\u001b[1;33m \u001b[1;32mfrom\u001b[0m \u001b[1;33m.\u001b[0m\u001b[1;33m.\u001b[0m\u001b[0mAnalysis\u001b[0m\u001b[1;33m.\u001b[0m\u001b[0mScripts\u001b[0m \u001b[1;32mimport\u001b[0m \u001b[0mproject_functions\u001b[0m\u001b[1;33m\u001b[0m\u001b[1;33m\u001b[0m\u001b[0m\n\u001b[0m",
      "\u001b[1;31mImportError\u001b[0m: attempted relative import with no known parent package"
     ]
    }
   ],
   "source": [
    "#import sys, os\n",
    "#sys.path.insert(0, os.path.abspath('..'))\n",
    "#from Scripts.project_functions import load_and_clean\n",
    "#from ..Analysis.Scripts import project_functions\n"
   ]
  },
  {
   "cell_type": "code",
   "execution_count": 1,
   "metadata": {},
   "outputs": [],
   "source": [
    "import pandas as pd\n",
    "import numpy as np\n",
    "import seaborn as sns\n",
    "import matplotlib.pylab as plt"
   ]
  },
  {
   "cell_type": "code",
   "execution_count": 2,
   "metadata": {},
   "outputs": [
    {
     "data": {
      "text/html": [
       "<div>\n",
       "<style scoped>\n",
       "    .dataframe tbody tr th:only-of-type {\n",
       "        vertical-align: middle;\n",
       "    }\n",
       "\n",
       "    .dataframe tbody tr th {\n",
       "        vertical-align: top;\n",
       "    }\n",
       "\n",
       "    .dataframe thead th {\n",
       "        text-align: right;\n",
       "    }\n",
       "</style>\n",
       "<table border=\"1\" class=\"dataframe\">\n",
       "  <thead>\n",
       "    <tr style=\"text-align: right;\">\n",
       "      <th></th>\n",
       "      <th>Title</th>\n",
       "      <th>Platform</th>\n",
       "      <th>Year Released</th>\n",
       "      <th>Genre</th>\n",
       "      <th>Publisher</th>\n",
       "      <th>NA_Sales</th>\n",
       "      <th>EU_Sales</th>\n",
       "      <th>JP_Sales</th>\n",
       "      <th>Other_Sales</th>\n",
       "      <th>Global_Sales</th>\n",
       "      <th>Critic_Score</th>\n",
       "      <th>Critic_Count</th>\n",
       "      <th>User_Score</th>\n",
       "      <th>User_Count</th>\n",
       "      <th>Developer</th>\n",
       "      <th>Rating</th>\n",
       "    </tr>\n",
       "  </thead>\n",
       "  <tbody>\n",
       "    <tr>\n",
       "      <th>0</th>\n",
       "      <td>Wii Sports</td>\n",
       "      <td>Wii</td>\n",
       "      <td>2006.0</td>\n",
       "      <td>Sports</td>\n",
       "      <td>Nintendo</td>\n",
       "      <td>41.36</td>\n",
       "      <td>28.96</td>\n",
       "      <td>3.77</td>\n",
       "      <td>8.45</td>\n",
       "      <td>82.53</td>\n",
       "      <td>76.0</td>\n",
       "      <td>51.0</td>\n",
       "      <td>8.0</td>\n",
       "      <td>322.0</td>\n",
       "      <td>Nintendo</td>\n",
       "      <td>E</td>\n",
       "    </tr>\n",
       "    <tr>\n",
       "      <th>2</th>\n",
       "      <td>Mario Kart Wii</td>\n",
       "      <td>Wii</td>\n",
       "      <td>2008.0</td>\n",
       "      <td>Racing</td>\n",
       "      <td>Nintendo</td>\n",
       "      <td>15.68</td>\n",
       "      <td>12.76</td>\n",
       "      <td>3.79</td>\n",
       "      <td>3.29</td>\n",
       "      <td>35.52</td>\n",
       "      <td>82.0</td>\n",
       "      <td>73.0</td>\n",
       "      <td>8.3</td>\n",
       "      <td>709.0</td>\n",
       "      <td>Nintendo</td>\n",
       "      <td>E</td>\n",
       "    </tr>\n",
       "    <tr>\n",
       "      <th>3</th>\n",
       "      <td>Wii Sports Resort</td>\n",
       "      <td>Wii</td>\n",
       "      <td>2009.0</td>\n",
       "      <td>Sports</td>\n",
       "      <td>Nintendo</td>\n",
       "      <td>15.61</td>\n",
       "      <td>10.93</td>\n",
       "      <td>3.28</td>\n",
       "      <td>2.95</td>\n",
       "      <td>32.77</td>\n",
       "      <td>80.0</td>\n",
       "      <td>73.0</td>\n",
       "      <td>8.0</td>\n",
       "      <td>192.0</td>\n",
       "      <td>Nintendo</td>\n",
       "      <td>E</td>\n",
       "    </tr>\n",
       "  </tbody>\n",
       "</table>\n",
       "</div>"
      ],
      "text/plain": [
       "               Title Platform  Year Released   Genre Publisher  NA_Sales  \\\n",
       "0         Wii Sports      Wii         2006.0  Sports  Nintendo     41.36   \n",
       "2     Mario Kart Wii      Wii         2008.0  Racing  Nintendo     15.68   \n",
       "3  Wii Sports Resort      Wii         2009.0  Sports  Nintendo     15.61   \n",
       "\n",
       "   EU_Sales  JP_Sales  Other_Sales  Global_Sales  Critic_Score  Critic_Count  \\\n",
       "0     28.96      3.77         8.45         82.53          76.0          51.0   \n",
       "2     12.76      3.79         3.29         35.52          82.0          73.0   \n",
       "3     10.93      3.28         2.95         32.77          80.0          73.0   \n",
       "\n",
       "   User_Score  User_Count Developer Rating  \n",
       "0         8.0       322.0  Nintendo      E  \n",
       "2         8.3       709.0  Nintendo      E  \n",
       "3         8.0       192.0  Nintendo      E  "
      ]
     },
     "execution_count": 2,
     "metadata": {},
     "output_type": "execute_result"
    }
   ],
   "source": [
    "# cleaning the dataset: getting rid of nulls and repeated values\n",
    "# couldn't use the project_functions module due to import error\n",
    "# using the piece of code from load_and_clean method in project_functions under the Scripts folder.\n",
    "\n",
    "dataset_address = 'C:\\\\Users\\\\admin\\\\Desktop\\\\Uni files\\\\Term I\\\\DATA 301\\\\Project\\\\course-project-group_6003\\\\data\\\\raw\\\\Gamesales.csv'\n",
    "data_frame = pd.read_csv(dataset_address)              # original dataset\n",
    "data_frame.head(7)\n",
    "\n",
    "df = ( pd.read_csv(dataset_address) \n",
    "         .dropna(how = \"any\")                      # remove null values\n",
    "         .rename(columns = {\"Name\" : \"Title\", 'Year_of_Release' : 'Year Released'})     # rename the first column to Title\n",
    "         .drop_duplicates()                        # drop duplicates if any\n",
    "     )\n",
    "df.head(3)        # df is free of nulls and duplicates"
   ]
  },
  {
   "cell_type": "code",
   "execution_count": 3,
   "metadata": {},
   "outputs": [
    {
     "name": "stdout",
     "output_type": "stream",
     "text": [
      "Columns: Index(['Title', 'Platform', 'Year Released', 'Genre', 'Publisher', 'NA_Sales',\n",
      "       'EU_Sales', 'JP_Sales', 'Other_Sales', 'Global_Sales', 'Critic_Score',\n",
      "       'Critic_Count', 'User_Score', 'User_Count', 'Developer', 'Rating'],\n",
      "      dtype='object')\n",
      "Number of rows and columns: (6825, 16)\n"
     ]
    },
    {
     "data": {
      "text/html": [
       "<div>\n",
       "<style scoped>\n",
       "    .dataframe tbody tr th:only-of-type {\n",
       "        vertical-align: middle;\n",
       "    }\n",
       "\n",
       "    .dataframe tbody tr th {\n",
       "        vertical-align: top;\n",
       "    }\n",
       "\n",
       "    .dataframe thead th {\n",
       "        text-align: right;\n",
       "    }\n",
       "</style>\n",
       "<table border=\"1\" class=\"dataframe\">\n",
       "  <thead>\n",
       "    <tr style=\"text-align: right;\">\n",
       "      <th></th>\n",
       "      <th>Year Released</th>\n",
       "      <th>NA_Sales</th>\n",
       "      <th>EU_Sales</th>\n",
       "      <th>JP_Sales</th>\n",
       "      <th>Other_Sales</th>\n",
       "      <th>Global_Sales</th>\n",
       "      <th>Critic_Score</th>\n",
       "      <th>Critic_Count</th>\n",
       "      <th>User_Score</th>\n",
       "      <th>User_Count</th>\n",
       "    </tr>\n",
       "  </thead>\n",
       "  <tbody>\n",
       "    <tr>\n",
       "      <th>count</th>\n",
       "      <td>6825.000000</td>\n",
       "      <td>6825.000000</td>\n",
       "      <td>6825.000000</td>\n",
       "      <td>6825.000000</td>\n",
       "      <td>6825.000000</td>\n",
       "      <td>6825.000000</td>\n",
       "      <td>6825.000000</td>\n",
       "      <td>6825.000000</td>\n",
       "      <td>6825.000000</td>\n",
       "      <td>6825.000000</td>\n",
       "    </tr>\n",
       "    <tr>\n",
       "      <th>mean</th>\n",
       "      <td>2007.436777</td>\n",
       "      <td>0.394484</td>\n",
       "      <td>0.236089</td>\n",
       "      <td>0.064158</td>\n",
       "      <td>0.082677</td>\n",
       "      <td>0.777590</td>\n",
       "      <td>70.272088</td>\n",
       "      <td>28.931136</td>\n",
       "      <td>7.185626</td>\n",
       "      <td>174.722344</td>\n",
       "    </tr>\n",
       "    <tr>\n",
       "      <th>std</th>\n",
       "      <td>4.211248</td>\n",
       "      <td>0.967385</td>\n",
       "      <td>0.687330</td>\n",
       "      <td>0.287570</td>\n",
       "      <td>0.269871</td>\n",
       "      <td>1.963443</td>\n",
       "      <td>13.868572</td>\n",
       "      <td>19.224165</td>\n",
       "      <td>1.439942</td>\n",
       "      <td>587.428538</td>\n",
       "    </tr>\n",
       "    <tr>\n",
       "      <th>min</th>\n",
       "      <td>1985.000000</td>\n",
       "      <td>0.000000</td>\n",
       "      <td>0.000000</td>\n",
       "      <td>0.000000</td>\n",
       "      <td>0.000000</td>\n",
       "      <td>0.010000</td>\n",
       "      <td>13.000000</td>\n",
       "      <td>3.000000</td>\n",
       "      <td>0.500000</td>\n",
       "      <td>4.000000</td>\n",
       "    </tr>\n",
       "    <tr>\n",
       "      <th>25%</th>\n",
       "      <td>2004.000000</td>\n",
       "      <td>0.060000</td>\n",
       "      <td>0.020000</td>\n",
       "      <td>0.000000</td>\n",
       "      <td>0.010000</td>\n",
       "      <td>0.110000</td>\n",
       "      <td>62.000000</td>\n",
       "      <td>14.000000</td>\n",
       "      <td>6.500000</td>\n",
       "      <td>11.000000</td>\n",
       "    </tr>\n",
       "    <tr>\n",
       "      <th>50%</th>\n",
       "      <td>2007.000000</td>\n",
       "      <td>0.150000</td>\n",
       "      <td>0.060000</td>\n",
       "      <td>0.000000</td>\n",
       "      <td>0.020000</td>\n",
       "      <td>0.290000</td>\n",
       "      <td>72.000000</td>\n",
       "      <td>25.000000</td>\n",
       "      <td>7.500000</td>\n",
       "      <td>27.000000</td>\n",
       "    </tr>\n",
       "    <tr>\n",
       "      <th>75%</th>\n",
       "      <td>2011.000000</td>\n",
       "      <td>0.390000</td>\n",
       "      <td>0.210000</td>\n",
       "      <td>0.010000</td>\n",
       "      <td>0.070000</td>\n",
       "      <td>0.750000</td>\n",
       "      <td>80.000000</td>\n",
       "      <td>39.000000</td>\n",
       "      <td>8.200000</td>\n",
       "      <td>89.000000</td>\n",
       "    </tr>\n",
       "    <tr>\n",
       "      <th>max</th>\n",
       "      <td>2016.000000</td>\n",
       "      <td>41.360000</td>\n",
       "      <td>28.960000</td>\n",
       "      <td>6.500000</td>\n",
       "      <td>10.570000</td>\n",
       "      <td>82.530000</td>\n",
       "      <td>98.000000</td>\n",
       "      <td>113.000000</td>\n",
       "      <td>9.600000</td>\n",
       "      <td>10665.000000</td>\n",
       "    </tr>\n",
       "  </tbody>\n",
       "</table>\n",
       "</div>"
      ],
      "text/plain": [
       "       Year Released     NA_Sales     EU_Sales     JP_Sales  Other_Sales  \\\n",
       "count    6825.000000  6825.000000  6825.000000  6825.000000  6825.000000   \n",
       "mean     2007.436777     0.394484     0.236089     0.064158     0.082677   \n",
       "std         4.211248     0.967385     0.687330     0.287570     0.269871   \n",
       "min      1985.000000     0.000000     0.000000     0.000000     0.000000   \n",
       "25%      2004.000000     0.060000     0.020000     0.000000     0.010000   \n",
       "50%      2007.000000     0.150000     0.060000     0.000000     0.020000   \n",
       "75%      2011.000000     0.390000     0.210000     0.010000     0.070000   \n",
       "max      2016.000000    41.360000    28.960000     6.500000    10.570000   \n",
       "\n",
       "       Global_Sales  Critic_Score  Critic_Count   User_Score    User_Count  \n",
       "count   6825.000000   6825.000000   6825.000000  6825.000000   6825.000000  \n",
       "mean       0.777590     70.272088     28.931136     7.185626    174.722344  \n",
       "std        1.963443     13.868572     19.224165     1.439942    587.428538  \n",
       "min        0.010000     13.000000      3.000000     0.500000      4.000000  \n",
       "25%        0.110000     62.000000     14.000000     6.500000     11.000000  \n",
       "50%        0.290000     72.000000     25.000000     7.500000     27.000000  \n",
       "75%        0.750000     80.000000     39.000000     8.200000     89.000000  \n",
       "max       82.530000     98.000000    113.000000     9.600000  10665.000000  "
      ]
     },
     "execution_count": 3,
     "metadata": {},
     "output_type": "execute_result"
    }
   ],
   "source": [
    "# Basic analysis:\n",
    "print(f'Columns: {df.columns}')                    # printing different columns\n",
    "print(f'Number of rows and columns: {df.shape}')     \n",
    "df.describe()                                      # Short summary of the dataset\n"
   ]
  },
  {
   "cell_type": "code",
   "execution_count": 4,
   "metadata": {},
   "outputs": [
    {
     "name": "stdout",
     "output_type": "stream",
     "text": [
      "Range of years: [2006. 2008. 2009. 2005. 2007. 2010. 2013. 2004. 2002. 2001. 2011. 2012.\n",
      " 2014. 1997. 1999. 2015. 2016. 2003. 1998. 1996. 2000. 1994. 1985. 1992.\n",
      " 1988.]\n"
     ]
    }
   ],
   "source": [
    "# Year_of_Release column\n",
    "print(f'Range of years: {df[\"Year Released\"].unique()}')\n",
    "# The dataset consists of games released from the year 1985 to those released in 2016.\n",
    "\n",
    "\n"
   ]
  },
  {
   "cell_type": "code",
   "execution_count": 5,
   "metadata": {},
   "outputs": [
    {
     "data": {
      "text/plain": [
       "(array([0, 1, 2, 3]), <a list of 4 Text major ticklabel objects>)"
      ]
     },
     "execution_count": 5,
     "metadata": {},
     "output_type": "execute_result"
    },
    {
     "data": {
      "image/png": "[encoded data removed]",
      "text/plain": [
       "<Figure size 432x288 with 1 Axes>"
      ]
     },
     "metadata": {
      "needs_background": "light"
     },
     "output_type": "display_data"
    }
   ],
   "source": [
    "# FOCUSING ON GAMES RELEASED IN 2016\n",
    "df1 = df[(df[\"Year Released\"] == 2016) & (df['JP_Sales'] > df['NA_Sales']) & (df['JP_Sales'] > df['EU_Sales']) ]    \n",
    "df1['Genre'].unique()        # DIFFERENT GENRES OF PS4 GAMES RELEASED IN 2016 \n",
    "\n",
    "japan_sales = df1[['Title', 'Genre', 'JP_Sales', 'NA_Sales', 'EU_Sales']]\n",
    "japan_sales\n",
    "# PLOTTING THE GRAPH OF FREQUENCY OF EACH GENRE IN JAPAN GAMES RELEASED IN 2016\n",
    "sns.countplot(x = 'Genre', data = japan_sales)  \n",
    "plt.title('Different Genres of 2016 Games - Japan')\n",
    "plt.xticks(rotation = 90)   \n",
    "# IT COULD BE INFERRED THAT THE MOST POPULAR GENRE IN JAPAN DURING THE PERIOD 2016-17 WAS ROLE-PLAYING, FOLLOWED BY ACTION."
   ]
  },
  {
   "cell_type": "code",
   "execution_count": 6,
   "metadata": {},
   "outputs": [
    {
     "data": {
      "text/plain": [
       "<matplotlib.axes._subplots.AxesSubplot at 0x22fed33b160>"
      ]
     },
     "execution_count": 6,
     "metadata": {},
     "output_type": "execute_result"
    },
    {
     "data": {
      "image/png": "[encoded data removed]",
      "text/plain": [
       "<Figure size 432x288 with 1 Axes>"
      ]
     },
     "metadata": {
      "needs_background": "light"
     },
     "output_type": "display_data"
    }
   ],
   "source": [
    "# COMPARING SPORTS AND ACTION GAME SALES IN NORTH AMERICA AND EUROPE\n",
    "df2 = df[(((df['Genre'] == 'Sports') | (df['Genre'] == 'Action')) & (df['NA_Sales'] > df['EU_Sales']))]\n",
    "df3 = df[(((df['Genre'] == 'Sports') | (df['Genre'] == 'Action')) & (df['EU_Sales'] > df['NA_Sales']))]\n",
    "games_NA = df2[['Title', 'Year Released', 'Genre', 'NA_Sales', 'EU_Sales']]\n",
    "games_EU = df3[['Title', 'Year Released', 'Genre', 'NA_Sales', 'EU_Sales']]\n",
    "p1 = sns.countplot(x = 'Genre', data = games_NA)\n",
    "plt.title(\"Action and Sport games in North America\")\n",
    "p1\n",
    "# PLEASE LOOK AT THE NEXT PLOT"
   ]
  },
  {
   "cell_type": "code",
   "execution_count": 7,
   "metadata": {},
   "outputs": [
    {
     "data": {
      "text/plain": [
       "<matplotlib.axes._subplots.AxesSubplot at 0x22feda2b550>"
      ]
     },
     "execution_count": 7,
     "metadata": {},
     "output_type": "execute_result"
    },
    {
     "data": {
      "image/png": "[encoded data removed]",
      "text/plain": [
       "<Figure size 432x288 with 1 Axes>"
      ]
     },
     "metadata": {
      "needs_background": "light"
     },
     "output_type": "display_data"
    }
   ],
   "source": [
    "# CONTINUED\n",
    "p2 = sns.countplot(x = 'Genre', data = games_EU)\n",
    "plt.title(\"Action and Sport games in Europe\")\n",
    "p2\n",
    "# THIS MAKES US INFER THAT SPORTS AND ACTION GAMES GAMES HAD MORE SALES IN NORTH AMERICA THAN IN EUROPE.\n"
   ]
  },
  {
   "cell_type": "code",
   "execution_count": 8,
   "metadata": {},
   "outputs": [
    {
     "data": {
      "text/plain": [
       "<matplotlib.axes._subplots.AxesSubplot at 0x22feda82580>"
      ]
     },
     "execution_count": 8,
     "metadata": {},
     "output_type": "execute_result"
    },
    {
     "data": {
      "image/png": "[encoded data removed]",
      "text/plain": [
       "<Figure size 432x288 with 1 Axes>"
      ]
     },
     "metadata": {
      "needs_background": "light"
     },
     "output_type": "display_data"
    }
   ],
   "source": [
    "# GENRES POPULAR IN NORTH AMERICA\n",
    "df4 = df[((df['NA_Sales'] > df['EU_Sales']) & ((df['NA_Sales'] > df['JP_Sales']) ))]\n",
    "df4.head(5)\n",
    "na_genres =  df4[['Title', 'Year Released', 'Genre', 'NA_Sales']]\n",
    "p3 = sns.countplot(x = 'Genre', data = df4)\n",
    "plt.title('Different Genres of Games - North America')\n",
    "plt.xticks(rotation = 90)\n",
    "p3    \n",
    "# ACTION GAMES SEEM TO HAVE GREATER SALES IN NORTH AMERICA, AS COMPARED TO THOSE OF EUROPE AND JAPAN."
   ]
  },
  {
   "cell_type": "code",
   "execution_count": 9,
   "metadata": {},
   "outputs": [
    {
     "name": "stdout",
     "output_type": "stream",
     "text": [
      "Total sales of Sports games in North America: 424.2\n",
      "Total sales of Action games in North America: 498.1\n",
      "Total sales of Shooter games in North America: 387.9\n"
     ]
    }
   ],
   "source": [
    "# COMPARING SALES OF DIFFERENT GENRES IN NORTH AMERICA\n",
    "na_genres\n",
    "# ANALYZING SALES FOR THE 3 MOST POPULAR GENRES\n",
    "na_sports = na_genres[na_genres['Genre'] == 'Sports']\n",
    "print(f'Total sales of Sports games in North America: {round(na_sports[\"NA_Sales\"].sum(), 1)}')\n",
    "\n",
    "na_action = na_genres[na_genres['Genre'] == 'Action']\n",
    "print(f'Total sales of Action games in North America: {round(na_action[\"NA_Sales\"].sum(), 1)}')\n",
    "\n",
    "na_shooter = na_genres[na_genres['Genre'] == 'Shooter']\n",
    "print(f'Total sales of Shooter games in North America: {round(na_shooter[\"NA_Sales\"].sum(), 1)}')"
   ]
  },
  {
   "cell_type": "code",
   "execution_count": 18,
   "metadata": {},
   "outputs": [
    {
     "data": {
      "text/plain": [
       "Text(0.5, 1.0, 'Sales of different genres in North America')"
      ]
     },
     "execution_count": 18,
     "metadata": {},
     "output_type": "execute_result"
    },
    {
     "data": {
      "image/png": "[encoded data removed]",
      "text/plain": [
       "<Figure size 432x288 with 1 Axes>"
      ]
     },
     "metadata": {
      "needs_background": "light"
     },
     "output_type": "display_data"
    }
   ],
   "source": [
    "# COMPARING SALES OF DIFFERENT GENRES IN NORTH AMERICA\n",
    "sns.violinplot(x = 'Genre', y = 'NA_Sales', data = df)\n",
    "plt.xticks(rotation = 90)\n",
    "plt.title(\"Sales of different genres in North America\")\n",
    "# IT COULD BE INFERRED THAT SPORTS HAD THE MOST SALED IN NORTH AMERICA, EVEN THOUGH SHOOTING GAMES WERE THE MOST POPULAR."
   ]
  },
  {
   "cell_type": "code",
   "execution_count": 17,
   "metadata": {},
   "outputs": [
    {
     "data": {
      "text/plain": [
       "Text(0.5, 1.0, 'Sales of different genres in Europe')"
      ]
     },
     "execution_count": 17,
     "metadata": {},
     "output_type": "execute_result"
    },
    {
     "data": {
      "image/png": "[encoded data removed]",
      "text/plain": [
       "<Figure size 432x288 with 1 Axes>"
      ]
     },
     "metadata": {
      "needs_background": "light"
     },
     "output_type": "display_data"
    }
   ],
   "source": [
    "# COMPARING SALES OF DIFFERENT GENRES IN EUROPE\n",
    "sns.violinplot(x = 'Genre', y = 'EU_Sales', data = df)\n",
    "plt.xticks(rotation = 90)\n",
    "plt.title(\"Sales of different genres in Europe\")\n",
    "# IT COULD BE SAID THAT SPORTS GAMES HAD THE MOST SALES IN EUROPE"
   ]
  },
  {
   "cell_type": "code",
   "execution_count": 19,
   "metadata": {},
   "outputs": [
    {
     "data": {
      "text/plain": [
       "Text(0.5, 1.0, 'Sales of different genres in Elsewhere')"
      ]
     },
     "execution_count": 19,
     "metadata": {},
     "output_type": "execute_result"
    },
    {
     "data": {
      "image/png": "[encoded data removed]",
      "text/plain": [
       "<Figure size 432x288 with 1 Axes>"
      ]
     },
     "metadata": {
      "needs_background": "light"
     },
     "output_type": "display_data"
    }
   ],
   "source": [
    "# COMPARING SALES OF DIFFERENT GENRES IN REGIONS OTHER THAN NORTH AMERICA, EUROPE AND JAPAN\n",
    "sns.violinplot(x = 'Genre', y = 'Other_Sales', data = df)\n",
    "plt.xticks(rotation = 90)\n",
    "plt.title(\"Sales of different genres in Elsewhere\")\n",
    "# IN OTHER REGIONS, ACTION GAMES HAD THE MOST SALES, FOLLOWED BY SPORTS"
   ]
  },
  {
   "cell_type": "code",
   "execution_count": 24,
   "metadata": {},
   "outputs": [
    {
     "name": "stdout",
     "output_type": "stream",
     "text": [
      "Total sales of Action games in Elsewhere: 147.5\n",
      "Total sales of Action games in North America: 498.1\n"
     ]
    }
   ],
   "source": [
    "# COMPARING SALES OF ACTION GAMES IN NORTH AMERICA AND REGIONS EXCLUDING JAPAN AND EUROPE\n",
    "sales_elsewhere = df[['Title', 'Genre', 'Year Released', 'Platform', 'Other_Sales']]\n",
    "elsewhere_action = sales_elsewhere[sales_elsewhere['Genre'] == 'Action']\n",
    "print(f'Total sales of Action games in Elsewhere: {round(elsewhere_action[\"Other_Sales\"].sum(), 1)}')\n",
    "na_action = na_genres[na_genres['Genre'] == 'Action']\n",
    "print(f'Total sales of Action games in North America: {round(na_action[\"NA_Sales\"].sum(), 1)}')\n",
    "# TOTAL SALES OF ACTION GAMES IN NORTH AMERICA WERE MORE THAN 3 TIMES THAT OF OTHER REGIONS (EXCLUDING EUROPE AND JAPAN)!"
   ]
  },
  {
   "cell_type": "code",
   "execution_count": 28,
   "metadata": {},
   "outputs": [
    {
     "data": {
      "text/plain": [
       "<matplotlib.axes._subplots.AxesSubplot at 0x22fedf47bb0>"
      ]
     },
     "execution_count": 28,
     "metadata": {},
     "output_type": "execute_result"
    },
    {
     "data": {
      "image/png": "[encoded data removed]",
      "text/plain": [
       "<Figure size 432x288 with 1 Axes>"
      ]
     },
     "metadata": {
      "needs_background": "light"
     },
     "output_type": "display_data"
    }
   ],
   "source": [
    "# POPULAR GENRE IN NORTH AMERICA\n",
    "df5 = df[df['NA_Sales'] > 0]\n",
    "df5 = df5[['Title', 'Year Released', 'Genre', 'NA_Sales']]\n",
    "p4 = sns.countplot(x = 'Genre', data = df5)\n",
    "plt.title('Different Genres of Games - North America')\n",
    "plt.xticks(rotation = 90)\n",
    "p4    \n",
    "# ACTION GENRE SEEMS TO BE THE MOST POPULAR -- ALSO JUSTIFIED BY SALES"
   ]
  },
  {
   "cell_type": "code",
   "execution_count": 29,
   "metadata": {},
   "outputs": [
    {
     "name": "stdout",
     "output_type": "stream",
     "text": [
      "Total sales of Action games in North America: 424.2\n"
     ]
    }
   ],
   "source": []
  },
  {
   "cell_type": "code",
   "execution_count": null,
   "metadata": {},
   "outputs": [],
   "source": []
  }
 ],
 "metadata": {
  "kernelspec": {
   "display_name": "Python 3",
   "language": "python",
   "name": "python3"
  },
  "language_info": {
   "codemirror_mode": {
    "name": "ipython",
    "version": 3
   },
   "file_extension": ".py",
   "mimetype": "text/x-python",
   "name": "python",
   "nbconvert_exporter": "python",
   "pygments_lexer": "ipython3",
   "version": "3.8.3"
  }
 },
 "nbformat": 4,
 "nbformat_minor": 4
}
