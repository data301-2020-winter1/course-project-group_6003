{
 "cells": [
  {
   "cell_type": "code",
   "execution_count": 1,
   "metadata": {},
   "outputs": [],
   "source": [
    "import pandas as pd\n",
    "import numpy as np"
   ]
  },
  {
   "cell_type": "code",
   "execution_count": 1,
   "metadata": {},
   "outputs": [],
   "source": [
    "# function for loading and returning clean data\n",
    "def load_and_clean(dataset_address):             \n",
    "    data_frame = pd.read_csv(dataset_address)              # original dataset\n",
    "    data_frame.head(7)\n",
    "\n",
    "    df = ( pd.read_csv(dataset_address) \n",
    "          .dropna(how = \"any\")                      # remove null values\n",
    "         # .rename(columns = {\"Name\" : \"Title\"})     # rename the first column to Title (optional)\n",
    "          .drop_duplicates()                        # drop duplicates if any\n",
    "         )\n",
    "        \n",
    "    return df                   # returns dataset free of nulls, and duplicates"
   ]
  },
  {
   "cell_type": "code",
   "execution_count": 1,
   "metadata": {},
   "outputs": [],
   "source": [
    "# RETURN NUMERICAL AND CATEGORICAL SUMMARY BASED ON GIVEN CATEGORY\n",
    "def return_summary(df, category_name):\n",
    "    # WARNING!: df should be a clean dataset, and be free of nulls and duplciates\n",
    "    df_numerical = ( \n",
    "        df[category_name].describe()      # load the numerical summary into df_numerical\n",
    "        )\n",
    "    df_categorical = (\n",
    "        df[category_name].describe(exclude = np.numbers)    # load the categorical summary into df_categorical\n",
    "    )\n",
    "    return df_numerical, df_categorical                   # return the summaries"
   ]
  },
  {
   "cell_type": "code",
   "execution_count": null,
   "metadata": {},
   "outputs": [],
   "source": [
    "# CREATE SUBSET OF DATASET USING A GIVEN CONDITION\n",
    "def conditional_dataframe(df, columnName, condition):   # condition should be string, for eg: \"== 'Sports'\"\n",
    "    df1 = ( df[df[columnName] + condition]\n",
    "            .dropna(how = 'any')\n",
    "            .drop_duplicates()\n",
    "          )\n",
    "    return df1                     # return subset"
   ]
  }
 ],
 "metadata": {
  "kernelspec": {
   "display_name": "Python 3",
   "language": "python",
   "name": "python3"
  },
  "language_info": {
   "codemirror_mode": {
    "name": "ipython",
    "version": 3
   },
   "file_extension": ".py",
   "mimetype": "text/x-python",
   "name": "python",
   "nbconvert_exporter": "python",
   "pygments_lexer": "ipython3",
   "version": "3.8.3"
  }
 },
 "nbformat": 4,
 "nbformat_minor": 4
}
